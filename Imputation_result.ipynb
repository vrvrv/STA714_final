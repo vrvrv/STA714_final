{
 "cells": [
  {
   "cell_type": "code",
   "execution_count": 102,
   "metadata": {},
   "outputs": [],
   "source": [
    "import warnings\n",
    "warnings.filterwarnings('ignore')\n",
    "\n",
    "import numpy as np\n",
    "import pandas as pd\n",
    "\n",
    "import matplotlib.pyplot as plt\n",
    "import seaborn as sns\n",
    "\n",
    "import subprocess"
   ]
  },
  {
   "cell_type": "code",
   "execution_count": 105,
   "metadata": {},
   "outputs": [],
   "source": [
    "data_tr = pd.read_csv('./data/boston_transform.csv', \n",
    "                      index_col = 'original_idx')\n",
    "data_missing = pd.read_csv('./data/boston_nan.csv',\n",
    "                           index_col = 'original_idx')"
   ]
  },
  {
   "cell_type": "code",
   "execution_count": 113,
   "metadata": {},
   "outputs": [
    {
     "data": {
      "text/html": [
       "<div>\n",
       "<style scoped>\n",
       "    .dataframe tbody tr th:only-of-type {\n",
       "        vertical-align: middle;\n",
       "    }\n",
       "\n",
       "    .dataframe tbody tr th {\n",
       "        vertical-align: top;\n",
       "    }\n",
       "\n",
       "    .dataframe thead th {\n",
       "        text-align: right;\n",
       "    }\n",
       "</style>\n",
       "<table border=\"1\" class=\"dataframe\">\n",
       "  <thead>\n",
       "    <tr style=\"text-align: right;\">\n",
       "      <th></th>\n",
       "      <th>RM</th>\n",
       "      <th>LSTAT</th>\n",
       "      <th>RAD</th>\n",
       "      <th>CRIM</th>\n",
       "      <th>PTRATIO</th>\n",
       "      <th>DIS</th>\n",
       "      <th>ZN</th>\n",
       "      <th>NOX</th>\n",
       "      <th>CHAS</th>\n",
       "      <th>B</th>\n",
       "      <th>TAX</th>\n",
       "      <th>INDUS</th>\n",
       "      <th>AGE</th>\n",
       "      <th>MEDV</th>\n",
       "    </tr>\n",
       "  </thead>\n",
       "  <tbody>\n",
       "    <tr>\n",
       "      <th>4</th>\n",
       "      <td>7.408049</td>\n",
       "      <td>1.461482</td>\n",
       "      <td>5</td>\n",
       "      <td>-1.542938</td>\n",
       "      <td>-1.546704</td>\n",
       "      <td>6.0622</td>\n",
       "      <td>0.0</td>\n",
       "      <td>0.458</td>\n",
       "      <td>0</td>\n",
       "      <td>396.90</td>\n",
       "      <td>222</td>\n",
       "      <td>2.18</td>\n",
       "      <td>54.2</td>\n",
       "      <td>36.2</td>\n",
       "    </tr>\n",
       "    <tr>\n",
       "      <th>17</th>\n",
       "      <td>5.723967</td>\n",
       "      <td>3.530537</td>\n",
       "      <td>3</td>\n",
       "      <td>-1.091328</td>\n",
       "      <td>1.026592</td>\n",
       "      <td>4.2579</td>\n",
       "      <td>0.0</td>\n",
       "      <td>0.538</td>\n",
       "      <td>0</td>\n",
       "      <td>386.75</td>\n",
       "      <td>307</td>\n",
       "      <td>8.14</td>\n",
       "      <td>81.7</td>\n",
       "      <td>17.5</td>\n",
       "    </tr>\n",
       "    <tr>\n",
       "      <th>22</th>\n",
       "      <td>5.601107</td>\n",
       "      <td>3.714877</td>\n",
       "      <td>5</td>\n",
       "      <td>0.149672</td>\n",
       "      <td>-0.958858</td>\n",
       "      <td>3.9769</td>\n",
       "      <td>0.0</td>\n",
       "      <td>0.538</td>\n",
       "      <td>0</td>\n",
       "      <td>396.90</td>\n",
       "      <td>307</td>\n",
       "      <td>8.14</td>\n",
       "      <td>91.7</td>\n",
       "      <td>15.2</td>\n",
       "    </tr>\n",
       "    <tr>\n",
       "      <th>32</th>\n",
       "      <td>6.327672</td>\n",
       "      <td>3.501619</td>\n",
       "      <td>7</td>\n",
       "      <td>-0.167309</td>\n",
       "      <td>-1.001809</td>\n",
       "      <td>3.9900</td>\n",
       "      <td>0.0</td>\n",
       "      <td>0.538</td>\n",
       "      <td>0</td>\n",
       "      <td>232.60</td>\n",
       "      <td>307</td>\n",
       "      <td>8.14</td>\n",
       "      <td>82.0</td>\n",
       "      <td>13.2</td>\n",
       "    </tr>\n",
       "    <tr>\n",
       "      <th>33</th>\n",
       "      <td>5.834947</td>\n",
       "      <td>3.363702</td>\n",
       "      <td>4</td>\n",
       "      <td>-0.341897</td>\n",
       "      <td>-0.829245</td>\n",
       "      <td>3.7872</td>\n",
       "      <td>0.0</td>\n",
       "      <td>0.538</td>\n",
       "      <td>0</td>\n",
       "      <td>358.77</td>\n",
       "      <td>307</td>\n",
       "      <td>8.14</td>\n",
       "      <td>95.0</td>\n",
       "      <td>13.1</td>\n",
       "    </tr>\n",
       "  </tbody>\n",
       "</table>\n",
       "</div>"
      ],
      "text/plain": [
       "          RM     LSTAT  RAD      CRIM   PTRATIO     DIS   ZN    NOX  CHAS  \\\n",
       "4   7.408049  1.461482    5 -1.542938 -1.546704  6.0622  0.0  0.458     0   \n",
       "17  5.723967  3.530537    3 -1.091328  1.026592  4.2579  0.0  0.538     0   \n",
       "22  5.601107  3.714877    5  0.149672 -0.958858  3.9769  0.0  0.538     0   \n",
       "32  6.327672  3.501619    7 -0.167309 -1.001809  3.9900  0.0  0.538     0   \n",
       "33  5.834947  3.363702    4 -0.341897 -0.829245  3.7872  0.0  0.538     0   \n",
       "\n",
       "         B  TAX  INDUS   AGE  MEDV  \n",
       "4   396.90  222   2.18  54.2  36.2  \n",
       "17  386.75  307   8.14  81.7  17.5  \n",
       "22  396.90  307   8.14  91.7  15.2  \n",
       "32  232.60  307   8.14  82.0  13.2  \n",
       "33  358.77  307   8.14  95.0  13.1  "
      ]
     },
     "execution_count": 113,
     "metadata": {},
     "output_type": "execute_result"
    }
   ],
   "source": [
    "em_imp = pd.read_csv('./data/em_imp.csv', index_col=0)\n",
    "em_imp.head()"
   ]
  },
  {
   "cell_type": "code",
   "execution_count": 114,
   "metadata": {},
   "outputs": [],
   "source": [
    "rm_true = []\n",
    "lstat_true = []\n",
    "rad_true = []\n",
    "crim_true = []\n",
    "ptr_true = []\n",
    "\n",
    "rm_imp = []\n",
    "lstat_imp = []\n",
    "rad_imp = []\n",
    "crim_imp = []\n",
    "ptr_imp = []\n",
    "\n",
    "rmidx = np.where(data_missing['RM'].isnull()==True)[0]\n",
    "lsidx = np.where(data_missing['LSTAT'].isnull()==True)[0]\n",
    "raidx = np.where(data_missing['RAD'].isnull()==True)[0]\n",
    "cridx = np.where(data_missing['CRIM'].isnull()==True)[0]\n",
    "ptidx = np.where(data_missing['PTRATIO'].isnull()==True)[0]\n",
    "\n",
    "for i in rmidx:\n",
    "    rm_true.append(data_tr.loc[i,'RM'])\n",
    "    rm_imp.append(em_imp.loc[i,'RM'])\n",
    "\n",
    "for i in lsidx:\n",
    "    lstat_true.append(data_tr.loc[i,'LSTAT'])\n",
    "    lstat_imp.append(em_imp.loc[i,'LSTAT'])\n",
    "    \n",
    "for i in raidx:\n",
    "    rad_true.append(data_tr.loc[i,'RAD'])\n",
    "    rad_imp.append(em_imp.loc[i,'RAD'])\n",
    "    \n",
    "for i in cridx:\n",
    "    crim_true.append(data_tr.loc[i,'CRIM'])\n",
    "    crim_imp.append(em_imp.loc[i,'CRIM'])\n",
    "    \n",
    "for i in ptidx:\n",
    "    ptr_true.append(data_tr.loc[i,'PTRATIO'])\n",
    "    ptr_imp.append(em_imp.loc[i,'PTRATIO'])\n",
    "    \n",
    "    "
   ]
  },
  {
   "cell_type": "code",
   "execution_count": 115,
   "metadata": {},
   "outputs": [
    {
     "data": {
      "image/png": "[encoded data removed]",
      "text/plain": [
       "<Figure size 432x288 with 1 Axes>"
      ]
     },
     "metadata": {
      "needs_background": "light"
     },
     "output_type": "display_data"
    }
   ],
   "source": [
    "x = np.linspace(min(rm_true), max(rm_true))\n",
    "plt.scatter(rm_true, rm_imp)\n",
    "plt.plot(x, x, 'r--')\n",
    "plt.show()"
   ]
  },
  {
   "cell_type": "code",
   "execution_count": 116,
   "metadata": {},
   "outputs": [
    {
     "data": {
      "image/png": "[encoded data removed]",
      "text/plain": [
       "<Figure size 432x288 with 1 Axes>"
      ]
     },
     "metadata": {
      "needs_background": "light"
     },
     "output_type": "display_data"
    }
   ],
   "source": [
    "x = np.linspace(min(lstat_true), max(lstat_true))\n",
    "plt.scatter(lstat_imp, lstat_true)\n",
    "plt.plot(x, x, 'r--')\n",
    "plt.show()"
   ]
  },
  {
   "cell_type": "code",
   "execution_count": 117,
   "metadata": {},
   "outputs": [
    {
     "data": {
      "image/png": "[encoded data removed]",
      "text/plain": [
       "<Figure size 432x288 with 1 Axes>"
      ]
     },
     "metadata": {
      "needs_background": "light"
     },
     "output_type": "display_data"
    }
   ],
   "source": [
    "x = np.linspace(min(rad_imp+rad_true), max(lstat_imp+rad_true))\n",
    "plt.scatter(rad_imp, rad_true)\n",
    "plt.plot(x, x, 'r--')\n",
    "plt.show()"
   ]
  },
  {
   "cell_type": "code",
   "execution_count": null,
   "metadata": {},
   "outputs": [],
   "source": []
  }
 ],
 "metadata": {
  "kernelspec": {
   "display_name": "Python 3",
   "language": "python",
   "name": "python3"
  },
  "language_info": {
   "codemirror_mode": {
    "name": "ipython",
    "version": 3
   },
   "file_extension": ".py",
   "mimetype": "text/x-python",
   "name": "python",
   "nbconvert_exporter": "python",
   "pygments_lexer": "ipython3",
   "version": "3.7.4"
  }
 },
 "nbformat": 4,
 "nbformat_minor": 2
}
